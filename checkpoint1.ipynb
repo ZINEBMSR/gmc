{
 "cells": [
  {
   "cell_type": "code",
   "execution_count": 5,
   "id": "6f79dc3b",
   "metadata": {},
   "outputs": [],
   "source": [
    "# print(\"Welcome to python world! Let's start coding\")"
   ]
  },
  {
   "cell_type": "raw",
   "id": "8654b51d",
   "metadata": {},
   "source": [
    "L'extension de ce fichier est ipynb (notebook document) "
   ]
  },
  {
   "cell_type": "code",
   "execution_count": 15,
   "id": "9a48ffd7",
   "metadata": {},
   "outputs": [
    {
     "name": "stdout",
     "output_type": "stream",
     "text": [
      "['new', 'item', 'at', 'any', 'position', 'in', 'the', 'list']\n",
      "8\n"
     ]
    }
   ],
   "source": [
    "x = ['new' ,'item' ,'at' ,'any' ,'position', 'in', 'the' ,'list']\n",
    "print(x)\n",
    "print(len(x))\n",
    "add"
   ]
  },
  {
   "cell_type": "code",
   "execution_count": 1,
   "id": "7b478d26",
   "metadata": {},
   "outputs": [
    {
     "name": "stdout",
     "output_type": "stream",
     "text": [
      "I am from Maroc\n",
      "I am from Algeria\n",
      "I am from Tunisia\n"
     ]
    }
   ],
   "source": [
    "def my_function(country=\"Tunisia\"):\n",
    "    print(\"I am from \"+country)\n",
    "my_function(\"Maroc\")\n",
    "my_function(\"Algeria\")\n",
    "my_function()"
   ]
  },
  {
   "cell_type": "code",
   "execution_count": 4,
   "id": "379dde6d",
   "metadata": {},
   "outputs": [
    {
     "name": "stdout",
     "output_type": "stream",
     "text": [
      "[0. 0. 0.]\n",
      "[5 5 5]\n"
     ]
    }
   ],
   "source": [
    "import numpy as n\n",
    "array = n.zeros(3)\n",
    "print(array)\n",
    "array = n.full(3,5)\n",
    "print(array)\n"
   ]
  },
  {
   "cell_type": "code",
   "execution_count": 1,
   "id": "a9261b08",
   "metadata": {},
   "outputs": [
    {
     "name": "stdout",
     "output_type": "stream",
     "text": [
      "[2002, 2009, 2016, 2023, 2037, 2044, 2051, 2058, 2072, 2079, 2086, 2093, 2107, 2114, 2121, 2128, 2142, 2149, 2156, 2163, 2177, 2184, 2191, 2198, 2212, 2219, 2226, 2233, 2247, 2254, 2261, 2268, 2282, 2289, 2296, 2303, 2317, 2324, 2331, 2338, 2352, 2359, 2366, 2373, 2387, 2394, 2401, 2408, 2422, 2429, 2436, 2443, 2457, 2464, 2471, 2478, 2492, 2499, 2506, 2513, 2527, 2534, 2541, 2548, 2562, 2569, 2576, 2583, 2597, 2604, 2611, 2618, 2632, 2639, 2646, 2653, 2667, 2674, 2681, 2688, 2702, 2709, 2716, 2723, 2737, 2744, 2751, 2758, 2772, 2779, 2786, 2793, 2807, 2814, 2821, 2828, 2842, 2849, 2856, 2863, 2877, 2884, 2891, 2898, 2912, 2919, 2926, 2933, 2947, 2954, 2961, 2968, 2982, 2989, 2996, 3003, 3017, 3024, 3031, 3038, 3052, 3059, 3066, 3073, 3087, 3094, 3101, 3108, 3122, 3129, 3136, 3143, 3157, 3164, 3171, 3178, 3192, 3199]\n"
     ]
    }
   ],
   "source": [
    "lst = [i for i in range(2000, 3201) if i % 7 == 0 if i % 5 != 0] \n",
    "print(lst) "
   ]
  },
  {
   "cell_type": "code",
   "execution_count": 18,
   "id": "c1cc00a8",
   "metadata": {},
   "outputs": [
    {
     "data": {
      "text/plain": [
       "24"
      ]
     },
     "execution_count": 18,
     "metadata": {},
     "output_type": "execute_result"
    }
   ],
   "source": [
    "def recur(n):\n",
    "    if n!=1 :\n",
    "        return  n*recur(n-1)\n",
    "    else:\n",
    "        return 1\n",
    "recur(4)"
   ]
  },
  {
   "cell_type": "code",
   "execution_count": 10,
   "id": "7aa9d893",
   "metadata": {},
   "outputs": [
    {
     "data": {
      "text/plain": [
       "{1: 1, 2: 4, 3: 9, 4: 16, 5: 25}"
      ]
     },
     "execution_count": 10,
     "metadata": {},
     "output_type": "execute_result"
    }
   ],
   "source": [
    "def quest3(n):\n",
    "    dict = { i:i*i for i in range(1,n+1)}\n",
    "    return dict\n",
    "quest3(5)"
   ]
  },
  {
   "cell_type": "code",
   "execution_count": 25,
   "id": "26caaf73",
   "metadata": {},
   "outputs": [
    {
     "data": {
      "text/plain": [
       "'zieb'"
      ]
     },
     "execution_count": 25,
     "metadata": {},
     "output_type": "execute_result"
    }
   ],
   "source": [
    "def missing_char(char,a):\n",
    "    A= list(char)\n",
    "    B=A[0:a]+A[a+1:6]\n",
    "    B1 = \"\".join(B)\n",
    "    return B1\n",
    "missing_char(\"zineb\",2)"
   ]
  },
  {
   "cell_type": "code",
   "execution_count": 48,
   "id": "57ffbc81",
   "metadata": {},
   "outputs": [
    {
     "name": "stdout",
     "output_type": "stream",
     "text": [
      "[[0, 1], [2, 3], [4, 5]]\n"
     ]
    }
   ],
   "source": [
    "import numpy as np\n",
    "a = [[0, 1], [2, 3], [4, 5]]\n",
    "arr = np.array(a)\n",
    "B=arr.tolist()\n",
    "print(B)"
   ]
  },
  {
   "cell_type": "code",
   "execution_count": 50,
   "id": "866277a0",
   "metadata": {},
   "outputs": [
    {
     "name": "stdout",
     "output_type": "stream",
     "text": [
      "[[ 1. -1.]\n",
      " [-1.  1.]]\n"
     ]
    }
   ],
   "source": [
    "import numpy as np\n",
    "arr1 = np.array([0,1,2])\n",
    "arr2 = np.array([2,1,0])\n",
    "B  = np.cov(arr1,arr2)\n",
    "print(B)"
   ]
  },
  {
   "cell_type": "code",
   "execution_count": 59,
   "id": "e217328d",
   "metadata": {},
   "outputs": [
    {
     "data": {
      "text/plain": [
       "18"
      ]
     },
     "execution_count": 59,
     "metadata": {},
     "output_type": "execute_result"
    }
   ],
   "source": [
    "import math\n",
    "def quest7(D):\n",
    "    C=50\n",
    "    H=30\n",
    "    Q = math.sqrt((2 * C * D)/H) \n",
    "    return math.trunc(Q)\n",
    "quest7(100)"
   ]
  },
  {
   "cell_type": "code",
   "execution_count": 58,
   "id": "f1bd0765",
   "metadata": {},
   "outputs": [
    {
     "name": "stdout",
     "output_type": "stream",
     "text": [
      "apples      NaN\n",
      "cherries    NaN\n",
      "cirese      NaN\n",
      "mere        NaN\n",
      "oranges     NaN\n",
      "pears       NaN\n",
      "pere        NaN\n",
      "portocale   NaN\n",
      "dtype: float64\n"
     ]
    }
   ],
   "source": [
    "import pandas as pd\n",
    "fruits = [\"apples\", \"oranges\", \"cherries\", \"pears\"]\n",
    "fruits_ro = [\"mere\", \"portocale\", \"cirese\", \"pere\"]\n",
    "S = pd.Series([20, 33, 52, 10], index=fruits)\n",
    "S2 = pd.Series([17, 13, 311, 32], index=fruits_ro)\n",
    "print(S+S2)"
   ]
  },
  {
   "cell_type": "code",
   "execution_count": 44,
   "id": "28f2712b",
   "metadata": {},
   "outputs": [
    {
     "name": "stdout",
     "output_type": "stream",
     "text": [
      "1.20.1\n"
     ]
    }
   ],
   "source": [
    "import numpy as np\n",
    "\n",
    "print(np.__version__)"
   ]
  },
  {
   "cell_type": "code",
   "execution_count": 20,
   "id": "360b3d21",
   "metadata": {},
   "outputs": [
    {
     "name": "stdout",
     "output_type": "stream",
     "text": [
      "          a         b         c         d\n",
      "0  0.359152 -0.269291  0.835355  1.156741\n",
      "1  1.065120 -0.098305 -0.811024  1.150410\n",
      "2  0.647355 -0.884641  1.593802 -0.362048\n"
     ]
    }
   ],
   "source": [
    "import numpy as np\n",
    "import pandas as pd\n",
    "my_numpy_array=np.random.randn(3,4)\n",
    "df=pd.DataFrame(my_numpy_array, columns=list(\"abcd\"))\n",
    "print(df)"
   ]
  },
  {
   "cell_type": "code",
   "execution_count": 35,
   "id": "8f89f7de",
   "metadata": {
    "scrolled": true
   },
   "outputs": [
    {
     "name": "stdout",
     "output_type": "stream",
     "text": [
      "<class 'pandas.core.frame.DataFrame'>\n",
      "RangeIndex: 160 entries, 0 to 159\n",
      "Data columns (total 1 columns):\n",
      " #   Column                                                                                                                           Non-Null Count  Dtype \n",
      "---  ------                                                                                                                           --------------  ----- \n",
      " 0   \"M\",\"HA-M\",\"PC\",\"HA-PC\",\"SVT \",\"HA-SVT\",\"HA-AR\",\"AR\",\"II\",\"HA-II\",\"FR\",\"HA-FR\",\"ANG\",\"HA-ANG\",\"EPS\",\"HA-EPS\",\"PHILO\",\"HA-PHILO\"  160 non-null    object\n",
      "dtypes: object(1)\n",
      "memory usage: 1.4+ KB\n"
     ]
    }
   ],
   "source": [
    "import pandas as pd\n",
    "df=pd.read_csv(\"MESSRAR.csv\")\n",
    "df."
   ]
  },
  {
   "cell_type": "code",
   "execution_count": 48,
   "id": "fca05167",
   "metadata": {
    "scrolled": true
   },
   "outputs": [
    {
     "data": {
      "text/plain": [
       "{0: 0, 1: 1, 2: 4, 3: 9, 4: 16}"
      ]
     },
     "execution_count": 48,
     "metadata": {},
     "output_type": "execute_result"
    }
   ],
   "source": [
    "def quest1(n):\n",
    "    dict = {}\n",
    "    for x in range(0,n+1,1):\n",
    "        dict[x] = x*x\n",
    "    return dict\n",
    "quest1(4)"
   ]
  },
  {
   "cell_type": "code",
   "execution_count": 17,
   "id": "265239f6",
   "metadata": {},
   "outputs": [
    {
     "data": {
      "text/plain": [
       "'ineb'"
      ]
     },
     "execution_count": 17,
     "metadata": {},
     "output_type": "execute_result"
    }
   ],
   "source": [
    "def missing_char(char,i): \n",
    "    l= list(char)\n",
    "    e = l[0:i]+l[i+1:]\n",
    "    StrA = \"\".join(e)\n",
    "    return StrA\n",
    "missing_char(\"zineb\",0)"
   ]
  },
  {
   "cell_type": "code",
   "execution_count": 75,
   "id": "f4efcc23",
   "metadata": {},
   "outputs": [
    {
     "data": {
      "text/plain": [
       "['z', 'i', 'n', 'e', 'b']"
      ]
     },
     "execution_count": 75,
     "metadata": {},
     "output_type": "execute_result"
    }
   ],
   "source": [
    "list(\"zineb\")"
   ]
  },
  {
   "cell_type": "code",
   "execution_count": 80,
   "id": "2e338cbc",
   "metadata": {},
   "outputs": [
    {
     "ename": "NameError",
     "evalue": "name 'ndarray' is not defined",
     "output_type": "error",
     "traceback": [
      "\u001b[1;31m---------------------------------------------------------------------------\u001b[0m",
      "\u001b[1;31mNameError\u001b[0m                                 Traceback (most recent call last)",
      "\u001b[1;32m<ipython-input-80-48cfe95885fb>\u001b[0m in \u001b[0;36m<module>\u001b[1;34m\u001b[0m\n\u001b[0;32m      1\u001b[0m \u001b[1;32mimport\u001b[0m \u001b[0mnumpy\u001b[0m \u001b[1;32mas\u001b[0m \u001b[0mnp\u001b[0m\u001b[1;33m\u001b[0m\u001b[1;33m\u001b[0m\u001b[0m\n\u001b[0;32m      2\u001b[0m \u001b[1;33m\u001b[0m\u001b[0m\n\u001b[1;32m----> 3\u001b[1;33m \u001b[0marr\u001b[0m \u001b[1;33m=\u001b[0m \u001b[0mndarray\u001b[0m\u001b[1;33m.\u001b[0m\u001b[0mtolist\u001b[0m\u001b[1;33m(\u001b[0m\u001b[1;33m[\u001b[0m\u001b[1;36m1\u001b[0m\u001b[1;33m,\u001b[0m \u001b[1;36m2\u001b[0m\u001b[1;33m,\u001b[0m \u001b[1;36m3\u001b[0m\u001b[1;33m,\u001b[0m \u001b[1;36m4\u001b[0m\u001b[1;33m,\u001b[0m \u001b[1;36m5\u001b[0m\u001b[1;33m]\u001b[0m\u001b[1;33m)\u001b[0m\u001b[1;33m\u001b[0m\u001b[1;33m\u001b[0m\u001b[0m\n\u001b[0m\u001b[0;32m      4\u001b[0m \u001b[1;33m\u001b[0m\u001b[0m\n\u001b[0;32m      5\u001b[0m \u001b[0mprint\u001b[0m\u001b[1;33m(\u001b[0m\u001b[0marr\u001b[0m\u001b[1;33m)\u001b[0m\u001b[1;33m\u001b[0m\u001b[1;33m\u001b[0m\u001b[0m\n",
      "\u001b[1;31mNameError\u001b[0m: name 'ndarray' is not defined"
     ]
    }
   ],
   "source": [
    "import numpy as np\n",
    "\n",
    "arr = ([1, 2, 3, 4, 5])\n",
    "\n",
    "print(arr)\n"
   ]
  },
  {
   "cell_type": "code",
   "execution_count": null,
   "id": "038cc6b1",
   "metadata": {},
   "outputs": [],
   "source": []
  }
 ],
 "metadata": {
  "kernelspec": {
   "display_name": "Python 3",
   "language": "python",
   "name": "python3"
  },
  "language_info": {
   "codemirror_mode": {
    "name": "ipython",
    "version": 3
   },
   "file_extension": ".py",
   "mimetype": "text/x-python",
   "name": "python",
   "nbconvert_exporter": "python",
   "pygments_lexer": "ipython3",
   "version": "3.8.8"
  }
 },
 "nbformat": 4,
 "nbformat_minor": 5
}
